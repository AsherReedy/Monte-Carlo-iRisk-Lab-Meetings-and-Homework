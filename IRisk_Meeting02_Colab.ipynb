{
  "cells": [
    {
      "cell_type": "markdown",
      "metadata": {
        "id": "view-in-github",
        "colab_type": "text"
      },
      "source": [
        "<a href=\"https://colab.research.google.com/github/AsherReedy/Monte-Carlo-iRisk-Lab-Meetings-and-Homework/blob/main/IRisk_Meeting02_Colab.ipynb\" target=\"_parent\"><img src=\"https://colab.research.google.com/assets/colab-badge.svg\" alt=\"Open In Colab\"/></a>"
      ]
    },
    {
      "cell_type": "markdown",
      "id": "337f3386",
      "metadata": {
        "id": "337f3386"
      },
      "source": [
        "# IRisk — Meeting 2\n",
        "### Random Generators → Uniform → Normal, and a Monte Carlo VaR/ES Application\n",
        "\n",
        "**Goals**\n",
        "- Understand PRNGs and seeding for reproducibility.\n",
        "- See encryption/decryption with a small RSA pipeline (for learning only).\n",
        "- Convert Uniform(0,1) to Normal (Box–Muller) and reuse it for an applied MC.\n",
        "- Estimate VaR and Expected Shortfall (ES/TVaR) and compare to analytic results.\n"
      ]
    },
    {
      "cell_type": "markdown",
      "id": "914dfab9",
      "metadata": {
        "id": "914dfab9"
      },
      "source": [
        "> **Parameters** — edit and then run the notebook top-to-bottom."
      ]
    },
    {
      "cell_type": "code",
      "execution_count": 9,
      "id": "8b230b5c",
      "metadata": {
        "colab": {
          "base_uri": "https://localhost:8080/"
        },
        "id": "8b230b5c",
        "outputId": "399312eb-9fd5-41ee-9191-d4404cfd1851"
      },
      "outputs": [
        {
          "output_type": "stream",
          "name": "stdout",
          "text": [
            "Seed=12, V0=$1,000,000, mu=0.0500%, sigma=1.50%, alpha=0.95, N=50,000\n"
          ]
        }
      ],
      "source": [
        "import math, time, hashlib, textwrap\n",
        "import numpy as np\n",
        "import matplotlib.pyplot as plt\n",
        "\n",
        "# Global config\n",
        "SEED = 12                 # change to see different random streams\n",
        "rng  = np.random.default_rng(SEED)\n",
        "\n",
        "# Portfolio for VaR/ES (1-day horizon)\n",
        "V0     = 1_000_000.0        # portfolio value\n",
        "mu     = 0.0005             # daily mean return\n",
        "sigma  = 0.015              # daily volatility\n",
        "alpha  = 0.95               # confidence level\n",
        "N_PATHS = 50_000            # Monte Carlo paths\n",
        "\n",
        "plt.rcParams['figure.figsize'] = (6,4)\n",
        "plt.rcParams['axes.grid'] = True\n",
        "\n",
        "print(f'Seed={SEED}, V0=${V0:,.0f}, mu={mu:.4%}, sigma={sigma:.2%}, alpha={alpha}, N={N_PATHS:,}')"
      ]
    },
    {
      "cell_type": "markdown",
      "id": "fdac2990",
      "metadata": {
        "id": "fdac2990"
      },
      "source": [
        "---\n",
        "## A) Pseudo-Random Generators & Seeding\n",
        "\n",
        "- Computers use deterministic algorithms to mimic randomness (PRNGs).\n",
        "- A seed fixes the PRNG state so results are repeatable.\n",
        "- Prefer one `Generator` (`np.random.default_rng(SEED)`) and pass it around.\n",
        "\n",
        "Checklist to record: seed, sample size, algorithm, and CI method."
      ]
    },
    {
      "cell_type": "markdown",
      "id": "18fdc6f7",
      "metadata": {
        "id": "18fdc6f7"
      },
      "source": [
        "---\n",
        "## B) Encryption/Decryption by Example — Toy RSA\n",
        "\n",
        "Steps: key generation → encode text into integers < $n$ → encrypt → decrypt → decode.\n",
        "\n",
        "Math (light): choose primes $p,q$; $n=pq$; $\\varphi(n)=(p-1)(q-1)$. Pick $e$ coprime to $\\varphi(n)$; compute $d$ such that $ed\\equiv1\\pmod{\\varphi(n)}$.  \n",
        "- Public key: $(n,e)$ — used to encrypt.  \n",
        "- Private key: $(d)$ — used to decrypt."
      ]
    },
    {
      "cell_type": "code",
      "execution_count": 10,
      "id": "d9e651d8",
      "metadata": {
        "id": "d9e651d8"
      },
      "outputs": [],
      "source": [
        "# Helpers: gcd / modular inverse / tiny prime test\n",
        "def egcd(a, b):\n",
        "    if b == 0:\n",
        "        return (a, 1, 0)\n",
        "    g, x, y = egcd(b, a % b)\n",
        "    return (g, y, x - (a // b) * y)\n",
        "\n",
        "def modinv(a, m):\n",
        "    g, x, _ = egcd(a, m)\n",
        "    if g != 1:\n",
        "        raise ValueError(\"No modular inverse\")\n",
        "    return x % m\n",
        "\n",
        "def is_probable_prime(n):\n",
        "    if n < 2:\n",
        "        return False\n",
        "    small = [2,3,5,7,11,13,17,19,23,29]\n",
        "    for p in small:\n",
        "        if n % p == 0:\n",
        "            return n == p\n",
        "    # Miller–Rabin for 32-bit range\n",
        "    d = n - 1; s = 0\n",
        "    while d % 2 == 0:\n",
        "        d //= 2; s += 1\n",
        "    for a in [2, 7, 61]:\n",
        "        if a % n == 0:\n",
        "            continue\n",
        "        x = pow(a, d, n)\n",
        "        if x == 1 or x == n - 1:\n",
        "            continue\n",
        "        for _ in range(s - 1):\n",
        "            x = pow(x, 2, n)\n",
        "            if x == n - 1:\n",
        "                break\n",
        "        else:\n",
        "            return False\n",
        "    return True\n",
        "\n",
        "def random_prime(bits=16, rng=np.random.default_rng(0)):\n",
        "    while True:\n",
        "        n = int(rng.integers(2**(bits-1), 2**bits-1)) | 1 | (1 << (bits-1))\n",
        "        if is_probable_prime(n):\n",
        "            return n\n",
        "\n",
        "def rsa_keygen(bits=16, rng=np.random.default_rng(0)):\n",
        "    p = random_prime(bits, rng)\n",
        "    q = random_prime(bits, rng)\n",
        "    while q == p:\n",
        "        q = random_prime(bits, rng)\n",
        "    n = p*q\n",
        "    phi = (p-1)*(q-1)\n",
        "    e = 65537\n",
        "    if math.gcd(e, phi) != 1:\n",
        "        e = 3\n",
        "        while math.gcd(e, phi) != 1:\n",
        "            e += 2\n",
        "    d = modinv(e, phi)\n",
        "    return (n, e), (n, d), (p, q), phi"
      ]
    },
    {
      "cell_type": "code",
      "execution_count": 11,
      "id": "6dd3417b",
      "metadata": {
        "id": "6dd3417b"
      },
      "outputs": [],
      "source": [
        "# Encode text into base-256 integers below n; decode back to text\n",
        "def max_block_len(n, base=256):\n",
        "    k = 1\n",
        "    while base**k < n:\n",
        "        k += 1\n",
        "    return k - 1\n",
        "\n",
        "def encode_message(msg: str, n: int, base=256):\n",
        "    data = msg.encode(\"utf-8\")\n",
        "    k = max_block_len(n, base)\n",
        "    blocks = []\n",
        "    for i in range(0, len(data), k):\n",
        "        chunk = data[i:i+k]\n",
        "        m = 0\n",
        "        for b in chunk:\n",
        "            m = m*base + b\n",
        "        blocks.append(m)\n",
        "    return blocks, k\n",
        "\n",
        "def decode_message(blocks, k, base=256):\n",
        "    out = bytearray()\n",
        "    for m in blocks:\n",
        "        tmp = []\n",
        "        x = m\n",
        "        for _ in range(k):\n",
        "            tmp.append(x % base)\n",
        "            x //= base\n",
        "        tmp.reverse()\n",
        "        for b in tmp:\n",
        "            if b != 0 or len(out) > 0:\n",
        "                out.append(b)\n",
        "    return out.decode(\"utf-8\", errors=\"ignore\")"
      ]
    },
    {
      "cell_type": "code",
      "execution_count": 12,
      "id": "2b8d7e79",
      "metadata": {
        "colab": {
          "base_uri": "https://localhost:8080/"
        },
        "id": "2b8d7e79",
        "outputId": "a7d47173-29ac-48fd-9386-17853209c63c"
      },
      "outputs": [
        {
          "output_type": "stream",
          "name": "stdout",
          "text": [
            "p,q: 38971 62137\n",
            "n: 2421541027 | phi: 2421439920\n",
            "public (n,e): (2421541027, 65537)\n",
            "private (n,d): (2421541027, '...')\n",
            "original: My name is Asher!!\n",
            "cipher blocks (first few): [2174509102, 809730539, 252025244, 1813185289, 514397440]\n",
            "decrypted: My name is Asher!!\n",
            "ok? True\n"
          ]
        }
      ],
      "source": [
        "# Encrypt/decrypt each block\n",
        "def rsa_encrypt_blocks(blocks, pub):\n",
        "    n, e = pub\n",
        "    return [pow(m % n, e, n) for m in blocks]\n",
        "\n",
        "def rsa_decrypt_blocks(cblocks, priv):\n",
        "    n, d = priv\n",
        "    return [pow(c, d, n) for c in cblocks]\n",
        "\n",
        "# Demo\n",
        "pub, priv, (p,q), phi = rsa_keygen(bits=16, rng=rng)\n",
        "message = \"My name is Asher!!\"\n",
        "m_blocks, k = encode_message(message, pub[0])\n",
        "c_blocks = rsa_encrypt_blocks(m_blocks, pub)\n",
        "m2_blocks = rsa_decrypt_blocks(c_blocks, priv)\n",
        "message_out = decode_message(m2_blocks, k)\n",
        "\n",
        "print(\"p,q:\", p, q)\n",
        "print(\"n:\", pub[0], \"| phi:\", phi)\n",
        "print(\"public (n,e):\", pub)\n",
        "print(\"private (n,d):\", (priv[0], \"...\"))\n",
        "print(\"original:\", message)\n",
        "print(\"cipher blocks (first few):\", c_blocks[:5])\n",
        "print(\"decrypted:\", message_out)\n",
        "print(\"ok?\", message_out == message)"
      ]
    },
    {
      "cell_type": "markdown",
      "id": "7d668bd5",
      "metadata": {
        "id": "7d668bd5"
      },
      "source": [
        "Notes: we pack bytes into integers smaller than $n$; encrypt $c=m^e\\bmod n$; decrypt $m=c^d\\bmod n$. Real RSA uses large keys and padding; this small demo is only for intuition."
      ]
    },
    {
      "cell_type": "markdown",
      "id": "6b70c0b4",
      "metadata": {
        "id": "6b70c0b4"
      },
      "source": [
        "---\n",
        "## C) From Uniform to Normal (Box–Muller)\n",
        "\n",
        "Two uniforms $U_1,U_2\\sim\\text{Uniform}(0,1)$ produce two independent $N(0,1)$ values via a polar change of variables.\n",
        "\n",
        "Key idea: interpret $(U_1,U_2)$ as random radius/angle; rotational symmetry of the normal gives independence."
      ]
    },
    {
      "cell_type": "code",
      "execution_count": 13,
      "id": "f2e422b1",
      "metadata": {
        "colab": {
          "base_uri": "https://localhost:8080/",
          "height": 407
        },
        "id": "f2e422b1",
        "outputId": "511d5eed-b7f7-4847-eb51-0fde11a22697"
      },
      "outputs": [
        {
          "output_type": "display_data",
          "data": {
            "text/plain": [
              "<Figure size 600x400 with 1 Axes>"
            ],
            "image/png": "[encoded data removed]"
          },
          "metadata": {}
        }
      ],
      "source": [
        "def box_muller_normals(n, rng):\n",
        "    u1 = rng.random(n//2)\n",
        "    u2 = rng.random(n//2)\n",
        "    r  = np.sqrt(-2*np.log(u1))\n",
        "    th = 2*np.pi*u2\n",
        "    z1 = r*np.cos(th); z2 = r*np.sin(th)\n",
        "    return np.concatenate([z1, z2]) if n % 2 == 0 else np.concatenate([z1, z2, rng.standard_normal(1)])\n",
        "\n",
        "# quick check\n",
        "Z = box_muller_normals(90_000, rng)\n",
        "plt.figure(); plt.hist(Z, bins=60, density=True, alpha=0.6)\n",
        "x = np.linspace(-4,4,401); plt.plot(x, 1/np.sqrt(2*np.pi)*np.exp(-x**2/2))\n",
        "plt.title(\"Box–Muller normals vs N(0,1) pdf\"); plt.tight_layout(); plt.show()"
      ]
    },
    {
      "cell_type": "markdown",
      "id": "57e26129",
      "metadata": {
        "id": "57e26129"
      },
      "source": [
        "---\n",
        "## D) Monte Carlo: One-Day VaR and ES for a Normal-Returns Portfolio\n",
        "\n",
        "Return $R\\sim\\mathcal N(\\mu,\\sigma^2)$; loss $L=-V_0R$. We estimate $\\text{VaR}_\\alpha$ and $\\text{ES}_\\alpha$ by simulation and compare to the normal formulas.\n",
        "\n",
        "VaR explanation: the $\\alpha$-quantile of loss — the threshold exceeded with probability $1-\\alpha$.\n",
        "\n",
        "ES explanation: the average loss beyond VaR; also called Tail VaR."
      ]
    },
    {
      "cell_type": "code",
      "execution_count": 14,
      "id": "b66c37bf",
      "metadata": {
        "colab": {
          "base_uri": "https://localhost:8080/",
          "height": 442
        },
        "id": "b66c37bf",
        "outputId": "03b03184-f16c-4c19-d40c-6255cdc95d28"
      },
      "outputs": [
        {
          "output_type": "stream",
          "name": "stdout",
          "text": [
            "Analytic VaR@0.95: $24,173   ES@0.95: $30,441  (z=1.645)\n",
            "   Monte Carlo VaR@0.95: $24,044   ES@0.95: $30,486  (N=50,000)\n"
          ]
        },
        {
          "output_type": "display_data",
          "data": {
            "text/plain": [
              "<Figure size 600x400 with 1 Axes>"
            ],
            "image/png": "[encoded data removed]"
          },
          "metadata": {}
        }
      ],
      "source": [
        "# Normal quantile/pdf helpers (Acklam-style approximation)\n",
        "def norm_ppf(p):\n",
        "    a=[-3.969683028665376e+01, 2.209460984245205e+02,-2.759285104469687e+02,\n",
        "       1.383577518672690e+02,-3.066479806614716e+01, 2.506628277459239e+00]\n",
        "    b=[-5.447609879822406e+01, 1.615858368580409e+02,-1.556989798598866e+02,\n",
        "       6.680131188771972e+01,-1.328068155288572e+01]\n",
        "    c=[-7.784894002430293e-03,-3.223964580411365e-01,-2.400758277161838e+00,\n",
        "       -2.549732539343734e+00, 4.374664141464968e+00, 2.938163982698783e+00]\n",
        "    d=[ 7.784695709041462e-03, 3.224671290700398e-01, 2.445134137142996e+00,\n",
        "        3.754408661907416e+00]\n",
        "    plow=0.02425; phigh=1-plow\n",
        "    if not (0 < p < 1):\n",
        "        raise ValueError(\"p in (0,1)\")\n",
        "    if p < plow:\n",
        "        q=math.sqrt(-2*math.log(p))\n",
        "        return (((((c[0]*q+c[1])*q+c[2])*q+c[3])*q+c[4])*q+c[5]) /                ((((d[0]*q+d[1])*q+d[2])*q+d[3])*q+1)\n",
        "    if p > phigh:\n",
        "        q=math.sqrt(-2*math.log(1-p))\n",
        "        return -(((((c[0]*q+c[1])*q+c[2])*q+c[3])*q+c[4])*q+c[5]) /                  ((((d[0]*q+d[1])*q+d[2])*q+d[3])*q+1)\n",
        "    q=p-0.5; r=q*q\n",
        "    return (((((a[0]*r+a[1])*r+a[2])*r+a[3])*r+a[4])*r+a[5])*q /            (((((b[0]*r+b[1])*r+b[2])*r+b[3])*r+b[4])*r+1)\n",
        "\n",
        "def norm_pdf(z):\n",
        "    return (1/np.sqrt(2*np.pi))*np.exp(-0.5*z*z)\n",
        "\n",
        "def normal_var_es(V0, mu, sigma, alpha):\n",
        "    z = norm_ppf(alpha)\n",
        "    var = -V0*mu + V0*sigma*z\n",
        "    es  = -V0*mu + V0*sigma*(norm_pdf(z)/(1-alpha))\n",
        "    return float(var), float(es), float(z)\n",
        "\n",
        "# Monte Carlo using Box–Muller normals\n",
        "Z = box_muller_normals(N_PATHS, rng)\n",
        "R = mu + sigma*Z\n",
        "L = -V0*R\n",
        "\n",
        "VaR_mc = float(np.quantile(L, alpha))\n",
        "ES_mc  = float(L[L>=VaR_mc].mean())\n",
        "\n",
        "VaR_th, ES_th, z = normal_var_es(V0, mu, sigma, alpha)\n",
        "\n",
        "print(f'Analytic VaR@{alpha:.2f}: ${VaR_th:,.0f}   ES@{alpha:.2f}: ${ES_th:,.0f}  (z={z:.3f})')\n",
        "print(f'   Monte Carlo VaR@{alpha:.2f}: ${VaR_mc:,.0f}   ES@{alpha:.2f}: ${ES_mc:,.0f}  (N={N_PATHS:,})')\n",
        "\n",
        "plt.figure()\n",
        "plt.hist(L, bins=80, density=True, alpha=0.6)\n",
        "plt.axvline(VaR_mc, linewidth=2, label=f'MC VaR@{alpha:.2f}')\n",
        "plt.axvline(ES_mc,  linewidth=2, linestyle='--', label=f'MC ES@{alpha:.2f}')\n",
        "plt.title('Loss distribution with VaR / ES markers (MC)')\n",
        "plt.xlabel('One-day loss'); plt.ylabel('Density')\n",
        "plt.legend(); plt.tight_layout(); plt.show()"
      ]
    },
    {
      "cell_type": "markdown",
      "id": "5be0269c",
      "metadata": {
        "id": "5be0269c"
      },
      "source": [
        "---\n",
        "## E) Practice\n"
      ]
    },
    {
      "cell_type": "markdown",
      "id": "323fc09d",
      "metadata": {
        "id": "323fc09d"
      },
      "source": [
        "1. How would you modify `box_muller_normals` so that for every $Z$ you also use $-Z$? Why might this reduce variance for VaR/ES?\n",
        "\n",
        "Idea: antithetical sampling, sampling variance\n",
        "\n",
        "**Explanations:**\n",
        "\n",
        "I modified the amount of uniform rv's we're generating to be n // 4, this is because for each rv, we are creating an antithetical pair to go along with it and so we only need half as many rvs for a given n. In total we're returning 4 Z's, so I modified the return statement to include the antithetical Z's along with the original z1 and z2.\n",
        "\n",
        "\n",
        "By adding the antithetical counterparts to z1 and z2, we're introducing a negative covariance amongst the pairs. The variance formula between 2 non-independent RV's is: Var(x+y) = Var(x)+Var(y)+2Cov(x,y), so if there is a negative covariance, the pair's variance will be reduced, this creates a more accurate model and reduces variance for predictions of VaR and ES. Overall, the goal is to make the 2 pair values move in opposite directions so their pair-average is more stable and is closer to mew. The results are a symmetrical set of values with a negative covariance between pairs.\n",
        "\n",
        "There is also a reducion in computational demand because we're generating half as many numbers as we would otherwise.\n",
        "\n",
        "I found that this strategy pretty much always works if the function is monotonic (entirely non-increasing / non-decreasing), it may not work otherwise. It always works in this case because the normal CDF is monotonic.\n",
        "\n",
        "\n"
      ]
    },
    {
      "cell_type": "code",
      "execution_count": 15,
      "id": "2d239f4e",
      "metadata": {
        "id": "2d239f4e",
        "colab": {
          "base_uri": "https://localhost:8080/",
          "height": 407
        },
        "outputId": "37a6f2f4-df1e-42fb-ae81-929a5eac4d42"
      },
      "outputs": [
        {
          "output_type": "display_data",
          "data": {
            "text/plain": [
              "<Figure size 600x400 with 1 Axes>"
            ],
            "image/png": "[encoded data removed]"
          },
          "metadata": {}
        }
      ],
      "source": [
        "def box_muller_normals(n, rng):\n",
        "    u1 = rng.random(n//4)  # change n//2 to n//4 bc we are returning 4 z's, only half of them are og numbers, other half are multiplied by -1\n",
        "    u2 = rng.random(n//4)\n",
        "    r  = np.sqrt(-2*np.log(u1))\n",
        "    th = 2*np.pi*u2\n",
        "\n",
        "    z1 = r*np.cos(th); z2 = r*np.sin(th)\n",
        "\n",
        "    return np.concatenate([z1, z2, -1*z1, -1*z2]) if n % 2 == 0 else np.concatenate([z1, z2, rng.standard_normal(1)])\n",
        "    # adding the negative Z's to the return array\n",
        "\n",
        "# quick check\n",
        "Z = box_muller_normals(90_000, rng)\n",
        "plt.figure(); plt.hist(Z, bins=60, density=True, alpha=0.6)\n",
        "x = np.linspace(-4,4,401); plt.plot(x, 1/np.sqrt(2*np.pi)*np.exp(-x**2/2))\n",
        "plt.title(\"Box–Muller normals vs N(0,1) pdf\"); plt.tight_layout(); plt.show()\n",
        "\n",
        "# Symmetrical result"
      ]
    },
    {
      "cell_type": "markdown",
      "id": "8c7bbf2f",
      "metadata": {
        "id": "8c7bbf2f"
      },
      "source": [
        "2. Use $U\\sim\\text{Uniform}(0,1)$ and the provided `norm_ppf(U)` to generate normals. Compare runtime and estimates versus Box–Muller for your VaR task. Which do you prefer and why?\n",
        "\n",
        "Idea: runtime, computational efficiency\n",
        "\n",
        "**Explanations:**\n",
        "\n",
        "The runtime of the Box Muller estimate is much faster than the Inverse CDF method. This is mostly because the Inverse CDF method has to use a for-loop to create the list of all the Normal random variables. Though I think this could be avoided by modifying the norm_ppf method to allow it to return arrays of random variables instead of just one at a time. Additionally, the Box-Muller method is a little bit faster because it is using antithetical sampling which halves the number of random samples it needs to generate.\n",
        "\n",
        "The estimates from both methods are very similar to each other which is expected because they are both generating RV's from the same normal distribution.\n",
        "\n",
        "While in this case it's a little slower, I prefer the Inverse CDF method because it's more intuitive to me than the derivation of the Box Muller transformation. Also I think some changes could be made to lower the runtime."
      ]
    },
    {
      "cell_type": "code",
      "execution_count": 17,
      "id": "b1becc17",
      "metadata": {
        "id": "b1becc17",
        "colab": {
          "base_uri": "https://localhost:8080/"
        },
        "outputId": "dd0fadaf-99a4-4d0e-afb9-e4fdf95947f7"
      },
      "outputs": [
        {
          "output_type": "stream",
          "name": "stdout",
          "text": [
            "Inverse CDF VaR (α=95%): 24,041.70\n",
            "Inverse CDF ES  (α=95%): 30,448.87\n",
            "Runtime: 0.22675 seconds\n",
            "\n",
            "Box Muller VaR (α=95%): 24,007.15\n",
            "Box Muller ES  (α=95%): 30,193.67\n",
            "Runtime: 0.00251 seconds\n"
          ]
        }
      ],
      "source": [
        "# ppf --> inverse cdf\n",
        "import time\n",
        "\n",
        "def Inverse_CDF():\n",
        "  u = np.random.uniform()\n",
        "  x = norm_ppf(u)\n",
        "\n",
        "  return x\n",
        "\n",
        "def Inverse_CDF_Simulations(n):\n",
        "  samples = [Inverse_CDF() for _ in range(n)]\n",
        "  samples = np.array(samples)\n",
        "\n",
        "  return samples\n",
        "\n",
        "def Inverse_CDF_var_es(V0, mu, sigma, alpha, n_paths):\n",
        "    start_time = time.perf_counter()\n",
        "\n",
        "    samples = Inverse_CDF_Simulations(n_paths)\n",
        "    losses = -V0 * (mu + sigma * samples)\n",
        "\n",
        "    VaR = np.quantile(losses, alpha)\n",
        "    ES  = losses[losses >= VaR].mean()\n",
        "\n",
        "    end_time = time.perf_counter()\n",
        "    elapsed = end_time - start_time\n",
        "\n",
        "    return float(VaR), float(ES), elapsed\n",
        "\n",
        "def Box_Muller_var_es(V0, mu, sigma, alpha, n_paths):\n",
        "    start_time = time.perf_counter()\n",
        "\n",
        "    samples = box_muller_normals(n_paths, rng)\n",
        "    losses = -V0 * (mu + sigma * samples)\n",
        "\n",
        "    VaR = np.quantile(losses, alpha)\n",
        "    ES  = losses[losses >= VaR].mean()\n",
        "\n",
        "    end_time = time.perf_counter()\n",
        "    elapsed = end_time - start_time\n",
        "\n",
        "    return float(VaR), float(ES), elapsed\n",
        "\n",
        "\n",
        "V0     = 1_000_000.0   # portfolio value\n",
        "mu     = 0.0005        # daily mean return\n",
        "sigma  = 0.015         # daily volatility\n",
        "alpha  = 0.95          # confidence level\n",
        "N_PATHS = 50_000       # Monte Carlo paths\n",
        "\n",
        "VaR_mc, ES_mc, runtime = Inverse_CDF_var_es(V0, mu, sigma, alpha, N_PATHS)\n",
        "print(f\"Inverse CDF VaR (α={alpha:.0%}): {VaR_mc:,.2f}\")\n",
        "print(f\"Inverse CDF ES  (α={alpha:.0%}): {ES_mc:,.2f}\")\n",
        "print(f\"Runtime: {runtime:.5f} seconds\\n\")\n",
        "\n",
        "VaR_mc, ES_mc, runtime = Box_Muller_var_es(V0, mu, sigma, alpha, N_PATHS)\n",
        "print(f\"Box Muller VaR (α={alpha:.0%}): {VaR_mc:,.2f}\")\n",
        "print(f\"Box Muller ES  (α={alpha:.0%}): {ES_mc:,.2f}\")\n",
        "print(f\"Runtime: {runtime:.5f} seconds\")\n"
      ]
    },
    {
      "cell_type": "markdown",
      "source": [
        "3. Explain why a regulator cares about value at risk and how it is used.\n",
        "\n",
        "Idea: Risk management, Reserving, Basel Accords\n",
        "\n",
        "**Explantions:**\n",
        "\n",
        "In the context of Risk-Management, the value of risk can indicate the potential loss at a specific confidence level. For example, a 95% VaR of X tells us that there is a 95% chance we won't lose more than $X, and a 5% chance of a loss greater than $X. It is the same as the percentile.\n",
        "\n",
        "Regulators care about VaR because it is a good general measure of risk and can provide insights into potential losses for banks or insurance companies. By predicting VaR, financial institutions can plan ahead and set aside reserves according to the level of risk to protect themselves from going bankrupt.\n",
        "\n",
        "Basel 2 required banks to calculate VaR and follow specific guidelines, later on, in response to the 2008 financial crisis, this was expanded upon and some updates were made in Basel 2.5 and 3.\n"
      ],
      "metadata": {
        "id": "j2oQSRAgwcVc"
      },
      "id": "j2oQSRAgwcVc"
    },
    {
      "cell_type": "markdown",
      "source": [
        "4. Look up a different technique for encryption. Describe its benefits and drawbacks.\n",
        "\n",
        "Idea: Elliptic-Curve, Lattice-Based, Quantum, Caesar Cipher\n",
        "\n",
        "**Explanations:**\n",
        "\n",
        "Quantum Cryptography\n",
        "\n",
        "This methods uses principles of quantum mechanics to create and send encryption keys through a process called QKD, it involves sending photons of different polarization and where there is information hidden in the pattern of photon polarizations.\n",
        "\n",
        "secure, observing a quantum state changes it, the recepient will know if someone tried to intercept it\n",
        "\n",
        "Benefits:\n",
        "\n",
        "  - The encryption is totally secure because observing a quantum state changes the state so the recepient and sender will know if the photons were tampered with by an eavesdropper.\n",
        "  - Even if an eavesdropper got ahold of the message, they wouldn't be able to decode it.\n",
        "  - Quantum random number generators are truly random.\n",
        "\n",
        "\n",
        "Drawbacks:\n",
        "\n",
        "  - There's still lots of work and research that needs to be done to implement the technology on a wide scale.\n",
        "  - The hardware requires lots of resources and it is very expensive to implement on a large scale.\n",
        "\n",
        "\n",
        "It's kind of interesting there seems to be a lot of talk about cyber risk in the insurance industry, if quantum cryptography gets to the point where it can be implemented it would help prevent many big losses.\n"
      ],
      "metadata": {
        "id": "LFZIQXppw77t"
      },
      "id": "LFZIQXppw77t"
    },
    {
      "cell_type": "markdown",
      "id": "570d17d7",
      "metadata": {
        "id": "570d17d7"
      },
      "source": [
        "5. Pair up with another group member and share your solutions to #2 on HW1 (an example using repeated random draws). Describe your partner’s example and compare it to your own.\n",
        "\n",
        "**Explanations:**\n",
        "\n",
        "I paired up with Lucian, for his example he used random draws to estimate the area inside a parabola bounded by y = 1 and 0 <= x <= 1 (half parabola). He simulated values for x and y using a uniform rng and kept track of the points that landed inside the parabola through the inequality: inside = x^2 - y <= 0. He took the proportion of points over the total points drawn to approximate the area inside the parabola.\n"
      ]
    }
  ],
  "metadata": {
    "colab": {
      "provenance": [],
      "include_colab_link": true
    },
    "language_info": {
      "name": "python"
    },
    "kernelspec": {
      "name": "python3",
      "display_name": "Python 3"
    }
  },
  "nbformat": 4,
  "nbformat_minor": 5
}